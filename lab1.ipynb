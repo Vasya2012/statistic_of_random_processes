{
 "cells": [
  {
   "cell_type": "markdown",
   "id": "83c18661",
   "metadata": {},
   "source": [
    "# Лабораторна робота №1\n",
    "## Завдання 2.1\n",
    "### Виконав Назаренко Василь, 5 курс, \"статистика\"\n",
    "#### Варіант №7\n",
    "\n",
    "#####                                УМОВА\n",
    "\n",
    "Розглянемо модель вигляду\n",
    "$$ {X}_n = {x}_0 + {\\theta{b}_n}+{\\sigma}{R}_n $$,\n",
    "у якій $ {R}_n = {\\sum_{i=1}^{n}}{\\varepsilon}_i, де{ \\varepsilon}_i {\\sim} = \\mathcal{N}(0,1), {i \\geq 0}, незалежні. $\n",
    "\n",
    "Написати програму для обчислення:\n",
    "\n",
    "а) оцінки параметра ${\\theta } $ за останнім спостереженням;\n",
    "\n",
    "б) ОМНК параметра $ {\\theta } $  при відомому $ {x}_0$;\n",
    "\n",
    "в) ОМНК параметрів ${x}_0$ та ${\\theta}$;\n",
    "\n",
    "г) оцінки параметра ${\\sigma}$(при відомому ${\\theta}$).\n",
    "\n",
    "Згенерувати 1000 реалізацій моделі та знайти середні та дисперсії оцінок для n=50,100,200,500,1000. Порівняти якість різних оцінок параметра ${\\theta}$. Чи підтверджують одержані результати конзистентність оцінок? Виконати те саме завдання для випадку, коли величини {${\\varepsilon}_i,{i \\geq 0}$} - незалежні та рівномірно розподілені на відрізку [-1,1].\n",
    "\n",
    "Значення параметрів для моделі:\n",
    "\n",
    "7) ${b}_n = {(8{n}^3-3n)}^{1/3}, {x}_0 = 4, {\\theta} = 0.1, {\\sigma} = 2$"
   ]
  },
  {
   "cell_type": "code",
   "execution_count": 257,
   "id": "2fba56ed-bd0e-4b59-bce2-50d3bcc44300",
   "metadata": {},
   "outputs": [],
   "source": [
    "import numpy as np\n",
    "\n",
    "n = 10000\n",
    "ksi_norm = np.random.normal(0, 1, n)\n",
    "ksi_uniform =np.random.uniform(-1, 1, n)\n",
    "X_0 = 4\n",
    "theta = 0.1\n",
    "sigma = 2\n",
    "R_norm = [np.sum(ksi_norm[0:i]) for i in range(1,n+1)]\n",
    "R_uniform = [np.sum(ksi_uniform[0:i]) for i in range(1,n+1)]\n",
    "\n",
    "sizes = [50, 100, 200, 500, 1000, 10000]"
   ]
  },
  {
   "cell_type": "code",
   "execution_count": 258,
   "id": "d4a98109-2db4-4c44-be13-923eb3ea5696",
   "metadata": {},
   "outputs": [],
   "source": [
    "def b(n):\n",
    "    if n==0:\n",
    "        return 0\n",
    "    else:\n",
    "        return (8*(n)**3-3*n)**(1/3)\n",
    "#b(1) - b(0)"
   ]
  },
  {
   "cell_type": "code",
   "execution_count": 259,
   "id": "39f33d3f",
   "metadata": {},
   "outputs": [],
   "source": [
    "X_norm = [X_0 + theta*b(i)+sigma*R_norm[i-1] for i in range(1, n+1)]\n",
    "X_uniform = [X_0 + theta*b(i)+sigma*R_uniform[i-1] for i in range(1, n+1)]"
   ]
  },
  {
   "cell_type": "markdown",
   "id": "440c1c75-1e38-492c-81ce-15d0b93eb341",
   "metadata": {},
   "source": [
    "### а)\n",
    "оцінка $ \\theta $ за останнім спостереженням\n",
    "\n",
    "$ \\theta = \\frac{{X}_n - {X}_0}{{b}_n}$"
   ]
  },
  {
   "cell_type": "code",
   "execution_count": 260,
   "id": "2a51e176-03a2-43a7-b405-70922d4f55e8",
   "metadata": {},
   "outputs": [],
   "source": [
    "def theta_hat1(n, X):\n",
    "    return (X[n-1]-X_0)/(b(n))"
   ]
  },
  {
   "cell_type": "code",
   "execution_count": 261,
   "id": "0d002722-1747-4ac9-8d5f-ca57636eaaff",
   "metadata": {},
   "outputs": [
    {
     "name": "stdout",
     "output_type": "stream",
     "text": [
      "theta_hat1:\n",
      "size   norm Mean    norm Var     uniform Mean  uniform Var \n",
      "  50   0.166325     0.028364     0.160400      0.007486\n",
      " 100   0.186528     0.015076     0.094795      0.008247\n",
      " 200   0.161346     0.008318     0.087326      0.004277\n",
      " 500   0.158919     0.003382     0.078856      0.001780\n",
      "1000   0.151740     0.001761     0.078709      0.000943\n",
      "10000   0.117802     0.000322     0.096790      0.000169\n"
     ]
    }
   ],
   "source": [
    "print(\"theta_hat1:\")\n",
    "print(\"{:6s} {:12s} {:12s} {:12s}  {:12s}\".format(\"size\", \"norm Mean\", \"norm Var\", \"uniform Mean\", \"uniform Var\"))\n",
    "for size in sizes:\n",
    "    list_norm = [theta_hat1(i,X_norm) for i in range(1,size+1)]\n",
    "    list_uniform = [theta_hat1(i,X_uniform) for i in range(1,size+1)]\n",
    "    \n",
    "    print(\"{:4d}   {:.6f}     {:.6f}     {:.6f}      {:.6f}\"\n",
    "              .format(size, np.mean(list_norm), np.var(list_norm), np.mean(list_uniform), np.var(list_uniform)))"
   ]
  },
  {
   "cell_type": "markdown",
   "id": "b9d83407-c825-476f-a02d-050d694e7569",
   "metadata": {},
   "source": [
    "### б)\n",
    "ОМНК параметра $ {\\theta } $  при відомому $ {x}_0$;\n",
    "\n",
    "${\\hat{\\theta}_n } = \\frac{\\sum_{i=1}^{n}\\Delta{X}_i\\Delta{b}_i}{\\sum_{i=1}^{n}(\\Delta{b}_i)^2}$"
   ]
  },
  {
   "cell_type": "code",
   "execution_count": 262,
   "id": "894561e5-ae7d-42d5-95af-c5d97acb01f7",
   "metadata": {},
   "outputs": [],
   "source": [
    "def theta_hat2(n, X):\n",
    "    return np.sum([(X[i+1] - X[i])*(b(i+1) - b(i)) for i in range(0,n)])\\\n",
    "    /np.sum([(b(i+1) - b(i))**2 for i in range(0, n)])"
   ]
  },
  {
   "cell_type": "code",
   "execution_count": 263,
   "id": "37ab6a48-174c-46b2-8cbe-c74d1bcf53d6",
   "metadata": {},
   "outputs": [
    {
     "name": "stdout",
     "output_type": "stream",
     "text": [
      "theta_hat2:\n",
      "size   norm Mean    norm Var     uniform Mean  uniform Var \n",
      "  50   0.094276     0.035258     0.164421      0.023188\n",
      " 100   0.145660     0.020489     0.094230      0.016524\n",
      " 200   0.137949     0.010397     0.086245      0.008387\n",
      " 500   0.148071     0.004269     0.078000      0.003411\n",
      "1000   0.145736     0.002156     0.078129      0.001758\n",
      "10000   0.117000     0.000325     0.096687      0.000253\n"
     ]
    }
   ],
   "source": [
    "print(\"theta_hat2:\")\n",
    "print(\"{:6s} {:12s} {:12s} {:12s}  {:12s}\".format(\"size\", \"norm Mean\", \"norm Var\", \"uniform Mean\", \"uniform Var\"))\n",
    "for size in sizes:\n",
    "    list_norm = [theta_hat2(i,X_norm) for i in range(1, size)]\n",
    "    list_uniform = [theta_hat2(i,X_uniform) for i in range(1, size)]\n",
    "    print(\"{:4d}   {:.6f}     {:.6f}     {:.6f}      {:.6f}\"\n",
    "          .format(size, np.mean(list_norm), np.var(list_norm), np.mean(list_uniform), np.var(list_uniform)))"
   ]
  },
  {
   "cell_type": "markdown",
   "id": "43f89148-467d-42a7-9754-5aaeb7b3718d",
   "metadata": {},
   "source": [
    "### в)\n",
    "в) ОМНК параметрів ${x}_0$ та ${\\theta}$;\n",
    "\n",
    "$ {\\hat{X}_0} = {X}_1 - {\\hat{\\theta}_n} {b}_1$\n",
    "\n",
    "${\\hat{\\theta}_n } = \\frac{\\sum_{i=2}^{n}\\Delta{X}_i\\Delta{b}_i}{\\sum_{i=2}^{n}(\\Delta{b}_i)^2}$"
   ]
  },
  {
   "cell_type": "code",
   "execution_count": 264,
   "id": "e540e851-4368-4267-a7f8-af4d271b1090",
   "metadata": {},
   "outputs": [],
   "source": [
    "def theta_hat(n,X):\n",
    "    return np.sum([(X[i+1] - X[i])*(b(i+1) - b(i)) for i in range(1,n)])\\\n",
    "    /np.sum([(b(i+1) - b(i))**2 for i in range(1, n)])\n",
    "def X_0(n,X):\n",
    "    return  X[0] - theta_hat(n,X)*b(1)\n",
    "\n",
    "#X0(1000, X_uniform)"
   ]
  },
  {
   "cell_type": "code",
   "execution_count": 265,
   "id": "6c3b1ead-7ed9-4bf2-ad65-39d093fdaeb4",
   "metadata": {},
   "outputs": [
    {
     "name": "stdout",
     "output_type": "stream",
     "text": [
      "theta_hat:\n",
      "size   norm Mean    norm Var     uniform Mean  uniform Var \n",
      "  50   0.010055     0.067466     0.084619      0.009603\n",
      " 100   0.100874     0.041388     0.048653      0.006212\n",
      " 200   0.113570     0.020789     0.060953      0.003341\n",
      " 500   0.137293     0.008695     0.066516      0.001367\n",
      "1000   0.139934     0.004364     0.071867      0.000767\n",
      "10000   0.116273     0.000515     0.095891      0.000181\n"
     ]
    }
   ],
   "source": [
    "print(\"theta_hat:\")\n",
    "print(\"{:6s} {:12s} {:12s} {:12s}  {:12s}\".format(\"size\", \"norm Mean\", \"norm Var\", \"uniform Mean\", \"uniform Var\"))\n",
    "for size in sizes:\n",
    "    list_norm = [theta_hat(i,X_norm) for i in range(2, size)]\n",
    "    list_uniform = [theta_hat(i,X_uniform) for i in range(2, size)]\n",
    "    print(\"{:4d}   {:.6f}     {:.6f}     {:.6f}      {:.6f}\"\n",
    "          .format(size, np.mean(list_norm), np.var(list_norm), np.mean(list_uniform), np.var(list_uniform)))"
   ]
  },
  {
   "cell_type": "code",
   "execution_count": 267,
   "id": "257955e7-99ed-4e5a-bbd1-f817decca629",
   "metadata": {},
   "outputs": [
    {
     "name": "stdout",
     "output_type": "stream",
     "text": [
      "X_0:\n",
      "size   norm mean X0 norm Var X0  uniform Mean X0  uniform Var X0\n",
      "  50   5.485826     0.197271     4.117832         0.028079\n",
      " 100   5.330528     0.121020     4.179333         0.018164\n",
      " 200   5.308818     0.060789     4.158301         0.009770\n",
      " 500   5.268252     0.025425     4.148789         0.003997\n",
      "1000   5.263737     0.012761     4.139637         0.002243\n",
      "10000   5.304195     0.001506     4.098557         0.000530\n"
     ]
    }
   ],
   "source": [
    "print(\"X_0:\")\n",
    "print(\"{:6s} {:12s} {:12s} {:12s}  {:12s}\".format(\"size\", \"norm mean X0\", \"norm Var X0\", \"uniform Mean X0\", \"uniform Var X0\"))\n",
    "for size in sizes:\n",
    "    list_norm = [X_0(i,X_norm)  for i in range(2, size)]\n",
    "    list_uniform = [X_0(i,X_uniform)  for i in range(2, size)]\n",
    "    print(\"{:4d}   {:.6f}     {:.6f}     {:.6f}         {:.6f}\"\n",
    "          .format(size, np.mean(list_norm), np.var(list_norm), np.mean(list_uniform), np.var(list_uniform)))"
   ]
  },
  {
   "cell_type": "markdown",
   "id": "b2d696c3-a912-4f5e-a70c-272bb80fe62e",
   "metadata": {},
   "source": [
    "### г)\n",
    "$ ({\\hat{\\sigma}})_n^2 = \\frac{\\sum_{i=1}^{n}(\\Delta{X}_i)^2}{n}$"
   ]
  },
  {
   "cell_type": "code",
   "execution_count": 268,
   "id": "5f585f17-1a4e-4de5-9ba9-207421849f42",
   "metadata": {},
   "outputs": [],
   "source": [
    "def sigma2_hat(n,X):\n",
    "    return np.sum([(X[i]-X[i-1])**2 for i in range(1, n)])/n"
   ]
  },
  {
   "cell_type": "code",
   "execution_count": 270,
   "id": "5fe5182d-19ea-4bec-b3e6-80a9e2e8812d",
   "metadata": {},
   "outputs": [
    {
     "name": "stdout",
     "output_type": "stream",
     "text": [
      "sigma2_hat:\n",
      "size   norm Mean    norm Var     uniform Mean  uniform Var \n",
      "  50   3.950244     0.699415     1.135301      0.051207\n",
      " 100   3.707427     0.427712     1.199365      0.030644\n",
      " 200   3.583443     0.241741     1.301094      0.025761\n",
      " 500   3.700243     0.108269     1.327216      0.010920\n",
      "1000   3.800292     0.064561     1.349201      0.006027\n",
      "10000   4.003079     0.013911     1.365054      0.000709\n"
     ]
    }
   ],
   "source": [
    "print(\"sigma2_hat:\")\n",
    "print(\"{:6s} {:12s} {:12s} {:12s}  {:12s}\".format(\"size\", \"norm Mean\", \"norm Var\", \"uniform Mean\", \"uniform Var\"))\n",
    "for size in sizes:\n",
    "    list_norm = [sigma2_hat(i,X_norm) for i in range(1, size)]\n",
    "    list_uniform = [sigma2_hat(i,X_uniform) for i in range(1, size)]\n",
    "    print(\"{:4d}   {:.6f}     {:.6f}     {:.6f}      {:.6f}\"\n",
    "          .format(size, np.mean(list_norm), np.var(list_norm), np.mean(list_uniform), np.var(list_uniform)))"
   ]
  },
  {
   "cell_type": "markdown",
   "id": "b2c73d4d",
   "metadata": {},
   "source": [
    "# Висновок\n",
    "Видно, що при збільшенні $ n $ від 50 до 1000 дав не найкращий результат, який хотілось би. Але вже при $ n $ = 10000, стає більш менш зрозуміло, що при збільшенні $ n $, можна сказати, що оцінка є конзистентною. \n",
    "\n",
    "Також, хочу добавити, що на результати може вплинути, як саме початково згенерується випадкова вибірка. Бувало таке, що оцінка $\\theta$ при збільшенні $ n $ вже відразу коливалася навколо $ 0.1 $ ( тобто, мого початкового значення ). Не став повторювати код ще раз, для більш кращого результату, оскільки при n = 10000 компютер вже доволі таки довго рахує це.\n",
    "\n",
    "Також, не зовсім зрозуміло, що має бути з оцінкой $ {X}_0 $, якщо вона повинна прямувати до мого заданого значення, то тут точно сказати важко. Хіба що, при рівномірному розподілі, вона більш менш прямує до 4. Що не можно сказати про нормальний розподіл(там при різних запусках програми, вона то в окулі одиниці, то двійки і т.д.). В даному випадку, $ {X}_0 $ біля 5.3 при нормальному розподілі та біля 4.1 при рівномірному."
   ]
  },
  {
   "cell_type": "code",
   "execution_count": null,
   "id": "e7c5e48b",
   "metadata": {},
   "outputs": [],
   "source": []
  }
 ],
 "metadata": {
  "kernelspec": {
   "display_name": "Python 3 (ipykernel)",
   "language": "python",
   "name": "python3"
  },
  "language_info": {
   "codemirror_mode": {
    "name": "ipython",
    "version": 3
   },
   "file_extension": ".py",
   "mimetype": "text/x-python",
   "name": "python",
   "nbconvert_exporter": "python",
   "pygments_lexer": "ipython3",
   "version": "3.9.7"
  }
 },
 "nbformat": 4,
 "nbformat_minor": 5
}
